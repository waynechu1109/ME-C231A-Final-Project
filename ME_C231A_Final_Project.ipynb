{
  "nbformat": 4,
  "nbformat_minor": 0,
  "metadata": {
    "colab": {
      "provenance": [],
      "include_colab_link": true
    },
    "kernelspec": {
      "name": "python3",
      "display_name": "Python 3"
    },
    "language_info": {
      "name": "python"
    }
  },
  "cells": [
    {
      "cell_type": "markdown",
      "metadata": {
        "id": "view-in-github",
        "colab_type": "text"
      },
      "source": [
        "<a href=\"https://colab.research.google.com/github/waynechu1109/ME-C231A-Final-Project/blob/main/ME_C231A_Final_Project.ipynb\" target=\"_parent\"><img src=\"https://colab.research.google.com/assets/colab-badge.svg\" alt=\"Open In Colab\"/></a>"
      ]
    },
    {
      "cell_type": "markdown",
      "source": [
        "# Dependencies Installation\n",
        "**Run the code below every time before working on the project.**:"
      ],
      "metadata": {
        "id": "CspKt-I6loRv"
      }
    },
    {
      "cell_type": "code",
      "execution_count": 2,
      "metadata": {
        "colab": {
          "base_uri": "https://localhost:8080/"
        },
        "id": "-Z2am6Sgk8_o",
        "outputId": "97562e7c-4e8e-43d1-b7c3-6b1b18da42e2"
      },
      "outputs": [
        {
          "output_type": "stream",
          "name": "stdout",
          "text": [
            "Collecting polytope\n",
            "  Downloading polytope-0.2.4.tar.gz (54 kB)\n",
            "\u001b[?25l     \u001b[90m━━━━━━━━━━━━━━━━━━━━━━━━━━━━━━━━━━━━━━━━\u001b[0m \u001b[32m0.0/54.6 kB\u001b[0m \u001b[31m?\u001b[0m eta \u001b[36m-:--:--\u001b[0m\r\u001b[2K     \u001b[91m━━━━━━━━━━━━━━━━━━━━━━\u001b[0m\u001b[90m╺\u001b[0m\u001b[90m━━━━━━━━━━━━━━━━━\u001b[0m \u001b[32m30.7/54.6 kB\u001b[0m \u001b[31m618.5 kB/s\u001b[0m eta \u001b[36m0:00:01\u001b[0m\r\u001b[2K     \u001b[90m━━━━━━━━━━━━━━━━━━━━━━━━━━━━━━━━━━━━━━━━\u001b[0m \u001b[32m54.6/54.6 kB\u001b[0m \u001b[31m733.4 kB/s\u001b[0m eta \u001b[36m0:00:00\u001b[0m\n",
            "\u001b[?25h  Preparing metadata (setup.py) ... \u001b[?25l\u001b[?25hdone\n",
            "Requirement already satisfied: networkx>=3.0 in /usr/local/lib/python3.10/dist-packages (from polytope) (3.2.1)\n",
            "Collecting numpy>=1.24.1 (from polytope)\n",
            "  Downloading numpy-1.26.2-cp310-cp310-manylinux_2_17_x86_64.manylinux2014_x86_64.whl (18.2 MB)\n",
            "\u001b[2K     \u001b[90m━━━━━━━━━━━━━━━━━━━━━━━━━━━━━━━━━━━━━━━━\u001b[0m \u001b[32m18.2/18.2 MB\u001b[0m \u001b[31m40.9 MB/s\u001b[0m eta \u001b[36m0:00:00\u001b[0m\n",
            "\u001b[?25hRequirement already satisfied: scipy>=1.10.0 in /usr/local/lib/python3.10/dist-packages (from polytope) (1.11.4)\n",
            "Building wheels for collected packages: polytope\n",
            "  Building wheel for polytope (setup.py) ... \u001b[?25l\u001b[?25hdone\n",
            "  Created wheel for polytope: filename=polytope-0.2.4-py3-none-any.whl size=47673 sha256=9a13cac2eec3e8fe8cb874a1ca595d1091a42d47b2ae2c26792e4c6af889694d\n",
            "  Stored in directory: /root/.cache/pip/wheels/9b/de/92/9d58cc85957b1657fe6b2e134016350f9311361eaddc4e6d29\n",
            "Successfully built polytope\n",
            "Installing collected packages: numpy, polytope\n",
            "  Attempting uninstall: numpy\n",
            "    Found existing installation: numpy 1.23.5\n",
            "    Uninstalling numpy-1.23.5:\n",
            "      Successfully uninstalled numpy-1.23.5\n",
            "\u001b[31mERROR: pip's dependency resolver does not currently take into account all the packages that are installed. This behaviour is the source of the following dependency conflicts.\n",
            "lida 0.0.10 requires fastapi, which is not installed.\n",
            "lida 0.0.10 requires kaleido, which is not installed.\n",
            "lida 0.0.10 requires python-multipart, which is not installed.\n",
            "lida 0.0.10 requires uvicorn, which is not installed.\n",
            "cupy-cuda11x 11.0.0 requires numpy<1.26,>=1.20, but you have numpy 1.26.2 which is incompatible.\u001b[0m\u001b[31m\n",
            "\u001b[0mSuccessfully installed numpy-1.26.2 polytope-0.2.4\n",
            "\u001b[2K     \u001b[90m━━━━━━━━━━━━━━━━━━━━━━━━━━━━━━━━━━━━━━━━\u001b[0m \u001b[32m12.5/12.5 MB\u001b[0m \u001b[31m65.2 MB/s\u001b[0m eta \u001b[36m0:00:00\u001b[0m\n",
            "\u001b[2K     \u001b[90m━━━━━━━━━━━━━━━━━━━━━━━━━━━━━━━━━━━━━━━━\u001b[0m \u001b[32m49.6/49.6 kB\u001b[0m \u001b[31m5.3 MB/s\u001b[0m eta \u001b[36m0:00:00\u001b[0m\n",
            "\u001b[?25hSelecting previously unselected package libsuitesparseconfig5:amd64.\n",
            "(Reading database ... 120903 files and directories currently installed.)\n",
            "Preparing to unpack .../libsuitesparseconfig5_1%3a5.10.1+dfsg-4build1_amd64.deb ...\n",
            "Unpacking libsuitesparseconfig5:amd64 (1:5.10.1+dfsg-4build1) ...\n",
            "Selecting previously unselected package libamd2:amd64.\n",
            "Preparing to unpack .../libamd2_1%3a5.10.1+dfsg-4build1_amd64.deb ...\n",
            "Unpacking libamd2:amd64 (1:5.10.1+dfsg-4build1) ...\n",
            "Selecting previously unselected package libcolamd2:amd64.\n",
            "Preparing to unpack .../libcolamd2_1%3a5.10.1+dfsg-4build1_amd64.deb ...\n",
            "Unpacking libcolamd2:amd64 (1:5.10.1+dfsg-4build1) ...\n",
            "Selecting previously unselected package libglpk40:amd64.\n",
            "Preparing to unpack .../libglpk40_5.0-1_amd64.deb ...\n",
            "Unpacking libglpk40:amd64 (5.0-1) ...\n",
            "Selecting previously unselected package glpk-utils.\n",
            "Preparing to unpack .../glpk-utils_5.0-1_amd64.deb ...\n",
            "Unpacking glpk-utils (5.0-1) ...\n",
            "Setting up libsuitesparseconfig5:amd64 (1:5.10.1+dfsg-4build1) ...\n",
            "Setting up libamd2:amd64 (1:5.10.1+dfsg-4build1) ...\n",
            "Setting up libcolamd2:amd64 (1:5.10.1+dfsg-4build1) ...\n",
            "Setting up libglpk40:amd64 (5.0-1) ...\n",
            "Setting up glpk-utils (5.0-1) ...\n",
            "Processing triggers for man-db (2.10.2-1) ...\n",
            "Processing triggers for libc-bin (2.35-0ubuntu3.4) ...\n",
            "/sbin/ldconfig.real: /usr/local/lib/libtbbbind_2_0.so.3 is not a symbolic link\n",
            "\n",
            "/sbin/ldconfig.real: /usr/local/lib/libtbb.so.12 is not a symbolic link\n",
            "\n",
            "/sbin/ldconfig.real: /usr/local/lib/libtbbmalloc_proxy.so.2 is not a symbolic link\n",
            "\n",
            "/sbin/ldconfig.real: /usr/local/lib/libtbbbind.so.3 is not a symbolic link\n",
            "\n",
            "/sbin/ldconfig.real: /usr/local/lib/libtbbmalloc.so.2 is not a symbolic link\n",
            "\n",
            "/sbin/ldconfig.real: /usr/local/lib/libtbbbind_2_5.so.3 is not a symbolic link\n",
            "\n",
            "Selecting previously unselected package coinor-libcoinutils3v5:amd64.\n",
            "(Reading database ... 121106 files and directories currently installed.)\n",
            "Preparing to unpack .../0-coinor-libcoinutils3v5_2.11.4+repack1-2_amd64.deb ...\n",
            "Unpacking coinor-libcoinutils3v5:amd64 (2.11.4+repack1-2) ...\n",
            "Selecting previously unselected package coinor-libosi1v5:amd64.\n",
            "Preparing to unpack .../1-coinor-libosi1v5_0.108.6+repack1-2_amd64.deb ...\n",
            "Unpacking coinor-libosi1v5:amd64 (0.108.6+repack1-2) ...\n",
            "Selecting previously unselected package coinor-libclp1.\n",
            "Preparing to unpack .../2-coinor-libclp1_1.17.5+repack1-1_amd64.deb ...\n",
            "Unpacking coinor-libclp1 (1.17.5+repack1-1) ...\n",
            "Selecting previously unselected package coinor-libcgl1:amd64.\n",
            "Preparing to unpack .../3-coinor-libcgl1_0.60.3+repack1-3_amd64.deb ...\n",
            "Unpacking coinor-libcgl1:amd64 (0.60.3+repack1-3) ...\n",
            "Selecting previously unselected package coinor-libcbc3:amd64.\n",
            "Preparing to unpack .../4-coinor-libcbc3_2.10.7+ds1-1_amd64.deb ...\n",
            "Unpacking coinor-libcbc3:amd64 (2.10.7+ds1-1) ...\n",
            "Selecting previously unselected package coinor-cbc.\n",
            "Preparing to unpack .../5-coinor-cbc_2.10.7+ds1-1_amd64.deb ...\n",
            "Unpacking coinor-cbc (2.10.7+ds1-1) ...\n",
            "Setting up coinor-libcoinutils3v5:amd64 (2.11.4+repack1-2) ...\n",
            "Setting up coinor-libosi1v5:amd64 (0.108.6+repack1-2) ...\n",
            "Setting up coinor-libclp1 (1.17.5+repack1-1) ...\n",
            "Setting up coinor-libcgl1:amd64 (0.60.3+repack1-3) ...\n",
            "Setting up coinor-libcbc3:amd64 (2.10.7+ds1-1) ...\n",
            "Setting up coinor-cbc (2.10.7+ds1-1) ...\n",
            "Processing triggers for man-db (2.10.2-1) ...\n",
            "Processing triggers for libc-bin (2.35-0ubuntu3.4) ...\n",
            "/sbin/ldconfig.real: /usr/local/lib/libtbbbind_2_0.so.3 is not a symbolic link\n",
            "\n",
            "/sbin/ldconfig.real: /usr/local/lib/libtbb.so.12 is not a symbolic link\n",
            "\n",
            "/sbin/ldconfig.real: /usr/local/lib/libtbbmalloc_proxy.so.2 is not a symbolic link\n",
            "\n",
            "/sbin/ldconfig.real: /usr/local/lib/libtbbbind.so.3 is not a symbolic link\n",
            "\n",
            "/sbin/ldconfig.real: /usr/local/lib/libtbbmalloc.so.2 is not a symbolic link\n",
            "\n",
            "/sbin/ldconfig.real: /usr/local/lib/libtbbbind_2_5.so.3 is not a symbolic link\n",
            "\n"
          ]
        }
      ],
      "source": [
        "# # install required dependencies\n",
        "#import sys\n",
        "!pip install polytope\n",
        "!pip install -q pyomo\n",
        "!apt-get install -y -qq glpk-utils\n",
        "!apt-get install -y -qq coinor-cbc\n",
        "!wget -N -q \"https://github.com/thomasfork/ipopt_linux/raw/main/ipopt-linux64.zip\"\n",
        "!unzip -o -q ipopt-linux64\n",
        "\n",
        "# IN_COLAB = 'google.colab' in sys.modules\n",
        "# if IN_COLAB:\n",
        "  #!pip install polytope"
      ]
    },
    {
      "cell_type": "markdown",
      "source": [
        "### Linearize the function"
      ],
      "metadata": {
        "id": "Mio_EwGrD-9l"
      }
    },
    {
      "cell_type": "code",
      "source": [
        "# (z1, z2, z3, z4) -> (p, x, y, q) -> (x, h, vx, xh)\n",
        "# (u1, u2) -> (u, r)\n",
        "import sympy as sp\n",
        "import numpy as np\n",
        "\n",
        "# Define the variables\n",
        "z1, z2, z3, z4, u1, u2 = sp.symbols('z1 z2 z3 z4 u1 u2')\n",
        "Ts = 1\n",
        "frho = (1-(2.2558*10**-5)*z2)**4.2577\n",
        "fw = 0.00879*(z2-9000)+51.39\n",
        "\n",
        "S = 125\n",
        "Cd = 0.053\n",
        "w = 70000\n",
        "C = S*Cd/w\n",
        "g = 9.77\n",
        "\n",
        "# Define the function (replace with your actual function)\n",
        "g1 = z1+Ts*z3\n",
        "g2 = z2+Ts*z4\n",
        "g3 = z3+Ts*((u1)-(1/2)*frho*(z3**2 + fw**2)*C)\n",
        "g4 = z4 + Ts*(u2-g)\n",
        "\n",
        "# Calculate partial derivatives\n",
        "\n",
        "# g1\n",
        "dg1_dp = sp.diff(g1, z1)\n",
        "# dg1_dx = sp.diff(g1, z2)\n",
        "dg1_dy = sp.diff(g1, z3)\n",
        "\n",
        "# g2\n",
        "# dg2_dp = sp.diff(g2, z1)\n",
        "dg2_dx = sp.diff(g2, z2)\n",
        "# dg2_dy = sp.diff(g2, z3)\n",
        "dg2_dq = sp.diff(g2, z4)\n",
        "\n",
        "# g3\n",
        "dg3_dx = sp.diff(g3, z2)\n",
        "dg3_dy = sp.diff(g3, z3)\n",
        "dg3_du = sp.diff(g3, u1)\n",
        "\n",
        "# g4\n",
        "dg4_dq = sp.diff(g4, z4)\n",
        "dg4_dr = sp.diff(g4, u2)\n",
        "\n",
        "# Specify the operating point\n",
        "operating_point = {z2: 10000, z3: 268.54, u1:0}\n",
        "\n",
        "# Evaluate partial derivatives at the operating point\n",
        "dg3_dx_op = dg3_dx.subs(operating_point)\n",
        "dg3_dy_op = dg3_dy.subs(operating_point)\n",
        "\n",
        "dg3_du_op = dg3_du.subs(operating_point)\n",
        "\n",
        "# Linearized A\n",
        "A = np.array([[dg1_dp, 0, dg1_dy, 0],\n",
        "              [0, dg2_dx, 0, dg2_dx],\n",
        "              [0, dg3_dx_op, dg3_dy_op, 0],\n",
        "              [0, 0, 0, dg4_dq]])\n",
        "\n",
        "# Linearized B\n",
        "B = np.array([[0, 0],\n",
        "              [0, 0],\n",
        "              [dg3_du, 0],\n",
        "              [0, dg4_dr]])\n",
        "\n",
        "# Linearize the function\n",
        "linearized_function = g3.subs({z2: operating_point[z2], z3: operating_point[z3], u1: operating_point[u1]}) + dg3_dx_op * (z2 - operating_point[z2]) + dg3_dy_op * (z3 - operating_point[z3]) + dg3_du_op * (u1 - operating_point[u1])\n",
        "\n",
        "# Print the linearized function\n",
        "print(\"Linearized Function:\", linearized_function)"
      ],
      "metadata": {
        "colab": {
          "base_uri": "https://localhost:8080/"
        },
        "id": "PFOjpL07a_wn",
        "outputId": "0fc63702-240b-4f75-bf1a-bfeefc99b691"
      },
      "execution_count": 4,
      "outputs": [
        {
          "output_type": "stream",
          "name": "stdout",
          "text": [
            "Linearized Function: u1 + 0.000132816938252977*z2 + 0.991441604965944*z3 - 0.236744563759089\n"
          ]
        }
      ]
    },
    {
      "cell_type": "markdown",
      "source": [
        "# CFTOC Formulation"
      ],
      "metadata": {
        "id": "kblGoGqxv6jB"
      }
    },
    {
      "cell_type": "markdown",
      "source": [
        "Formulation of CFTOC Problem with Pyomo\n",
        "\n",
        "First we will write a function which formulates and solves a finite time optimal control problem with quadratic cost, linear dynamics, and linear constraints. Then we call this function as a part of the MPC controller. Consider the problem defined below:\n",
        "\\begin{equation}\n",
        "\\begin{aligned}\n",
        "\\min_{x_1 \\dots x_N,u_0 \\dots u_{N-1}} & \\quad x_N^{\\top}Px_N+\\sum_{k=0}^{N-1}x_k^{\\top}Qx_k+u_k^{\\top}Ru_k \\\\\n",
        "\\text{s.t.} & \\quad x_{k+1} = Ax_k + Bu_k \\quad \\forall k=0\\dots N-1\\\\\n",
        "& \\quad x_{min} \\leq x_k \\leq x_{max}  \\quad \\forall k=0\\dots N-1 \\\\\n",
        "& \\quad u_{min} \\leq u_k \\leq u_{max}  \\quad \\forall k=0\\dots N-1 \\\\\n",
        "& \\quad x_0 = x(0) \\\\\n",
        "& \\quad x_N \\in \\mathcal{X}_f\n",
        "\\end{aligned}\n",
        "\\end{equation}\n",
        "\n",
        "Write a function in the following form which formulates the problem using pyomo and solves the problem using the solver $\\texttt{ipopt}$. Test your code on several 1 and 2-state examples."
      ],
      "metadata": {
        "id": "VQCgQShaoUzJ"
      }
    },
    {
      "cell_type": "markdown",
      "source": [
        "\n",
        "- $\\texttt{feas}$ is a scalar logical indicating the feasibility of the CFTOC problem\n",
        "- $\\texttt{xOpt}$ is a $n_x \\times (N+1)$ matrix of the optimal state trajectory, where $n_x$ is the state dimension\n",
        "- $\\texttt{uOpt}$ is a $n_u \\times N$ matrix of the optimal input sequence, where $n_u$ is the input dimension\n",
        "- $\\texttt{JOpt}$ is a scalar of the optimal cost from the specified initial condition\n",
        "- $\\texttt{A, B}$ are the state and input matricies of the linear dynamics\n",
        "- $\\texttt{P}$ is the terminal cost matrix\n",
        "- $\\texttt{Q, R}$ are the stage cost matricies\n",
        "- $\\texttt{N}$ is the MPC horizon\n",
        "- $\\texttt{x0}$ is the initial condition\n",
        "- $\\texttt{xL, xU, uL, uU}$ are the box state and input constraints\n",
        "- $\\texttt{bf, Af}$ are used to represent the terminal set. If the terminal set ${\\cal X}_f$ is a single point, ${\\cal X}_f = \\{ \\bar{x}_N \\}$, the input argument $\\texttt{bf}$ is used to specify this single point $\\bar{x}_N$, and the input argument $\\texttt{Af = []}$ is used to designate this special case of a single-point terminal set. If the terminal set is described by a set of linear inequalities, it can be expressed using the inequality $A_f x_N \\leq b_f$.\n"
      ],
      "metadata": {
        "id": "-z8yOFLvodHk"
      }
    },
    {
      "cell_type": "markdown",
      "source": [
        "**If the cell below cannot run properly, \"Restart Runtime\" then run again.**"
      ],
      "metadata": {
        "id": "sPJSCMTPolpb"
      }
    },
    {
      "cell_type": "code",
      "source": [
        "import polytope as pt\n",
        "import numpy as np\n",
        "# from __future__ import division\n",
        "import pyomo.environ as pyo\n",
        "import matplotlib.pyplot as plt\n",
        "# %matplotlib widget"
      ],
      "metadata": {
        "id": "ZFu4s_u6oPQ4"
      },
      "execution_count": 1,
      "outputs": []
    },
    {
      "cell_type": "code",
      "source": [
        "def solve_cftoc(A, B, P, Q, R, N, x0, xref, Af, bf):\n",
        "\n",
        "\n",
        "    # uref = np.array\n",
        "    xmax = 50000\n",
        "    xmin = 0\n",
        "    hmax = 12000\n",
        "    hmin = 9000\n",
        "    vxmax = 268.54\n",
        "    vxmin = 63.28\n",
        "    vhmax = 15.24\n",
        "    vhmin = -10.16\n",
        "    uxmax = 3.07\n",
        "    uxmin = 0\n",
        "    uhmax = 3.07\n",
        "    uhmin = -3\n",
        "\n",
        "    # xU = np.array([xmax, hmax, vxmax, vhmax])\n",
        "    # xL = np.array([xmin, hmin, vxmin, vhmin])\n",
        "    xMax = np.array([xmax, hmax, vxmax, vhmax]) # upper bound\n",
        "    xMin = np.array([xmin, hmin, vxmin, vhmin])\n",
        "    uMax = np.array([uxmax, uhmax])\n",
        "    uMin = np.array([uxmin, uhmin])\n",
        "\n",
        "\n",
        "    S = 125.0\n",
        "    C_d = 0.053\n",
        "    W = 7e5\n",
        "    model = pyo.ConcreteModel()\n",
        "    model.N = N\n",
        "    rho_0 = 1.225\n",
        "\n",
        "    model.nx = 4\n",
        "    model.nu = 2\n",
        "\n",
        "    model.A = A\n",
        "    model.B = B\n",
        "\n",
        "\n",
        "    # length of finite optimization problem:\n",
        "    model.tIDX = pyo.Set( initialize= range(model.N+1), ordered=True )\n",
        "    model.xIDX = pyo.Set( initialize= range(model.nx), ordered=True )\n",
        "    model.uIDX = pyo.Set( initialize= range(model.nu), ordered=True )\n",
        "\n",
        "    # these are 2d arrays:\n",
        "    model.Q = Q\n",
        "    model.P = P\n",
        "    model.R = R\n",
        "\n",
        "    # Create state and input variables trajectory:\n",
        "    # model.x = pyo.Var(model.xIDX, model.tIDX, bounds=(xL,xU))\n",
        "    model.x = pyo.Var(model.xIDX, model.tIDX)\n",
        "    # model.u = pyo.Var(model.uIDX, model.tIDX, bounds=(uL,uU))\n",
        "    model.u = pyo.Var(model.uIDX, model.tIDX)\n",
        "\n",
        "    #Objective:\n",
        "    def objective_rule(model):\n",
        "        costX = 0.0\n",
        "        costU = 0.0\n",
        "        costTerminal = 0.0\n",
        "        for t in model.tIDX:\n",
        "            for i in model.xIDX:\n",
        "                for j in model.xIDX:\n",
        "                    if t < model.N:\n",
        "                        costX += (model.x[i, t]) * model.Q[i, j] * (model.x[j, t])\n",
        "        for t in model.tIDX:\n",
        "            for i in model.uIDX:\n",
        "                for j in model.uIDX:\n",
        "                    if t < model.N:\n",
        "                        costU += model.u[i, t] * model.R[i, j] * model.u[j, t]\n",
        "        for i in model.xIDX:\n",
        "            for j in model.xIDX:\n",
        "                costTerminal += (model.x[i, model.N]) * model.P[i, j] * (model.x[j, model.N])\n",
        "        return costX + costU + costTerminal\n",
        "\n",
        "    model.cost = pyo.Objective(rule = objective_rule, sense = pyo.minimize)\n",
        "\n",
        "    # Constraints:\n",
        "    def equality_const_rule(model, i, t):\n",
        "        return model.x[i, t+1] - (sum(model.A[i, j] * model.x[j, t] for j in model.xIDX)\n",
        "                               +  sum(model.B[i, j] * model.u[j, t] for j in model.uIDX) ) == 0.0 if t < model.N else pyo.Constraint.Skip\n",
        "\n",
        "    model.equality_constraints = pyo.Constraint(model.xIDX, model.tIDX, rule=equality_const_rule)\n",
        "\n",
        "    # Constraints:\n",
        "    model.init_const1 = pyo.Constraint(expr = model.x[0, 0] == x0[0])\n",
        "    model.init_const2 = pyo.Constraint(expr = model.x[1, 0] == x0[1])\n",
        "    model.init_const3 = pyo.Constraint(expr = model.x[2, 0] == x0[2])\n",
        "    model.init_const4 = pyo.Constraint(expr = model.x[3, 0] == x0[3])\n",
        "\n",
        "    # states boundary\n",
        "    model.constraint1 = pyo.Constraint(model.xIDX, model.tIDX, rule=lambda model, i, t: model.x[i, t] <= xMax[i]\n",
        "                                      if t <= N else pyo.Constraint.Skip)\n",
        "\n",
        "    model.constraint2 = pyo.Constraint(model.xIDX, model.tIDX, rule=lambda model, i, t: model.x[i, t] >= xMin[i]\n",
        "                                      if t <= N else pyo.Constraint.Skip)\n",
        "\n",
        "    model.constraint3 = pyo.Constraint(model.uIDX, model.tIDX, rule=lambda model, i, t: model.u[i, t] <= uMax[i]\n",
        "                                      if t <= N-1 else pyo.Constraint.Skip)\n",
        "\n",
        "    model.constraint4 = pyo.Constraint(model.uIDX, model.tIDX, rule=lambda model, i, t: model.u[i, t] >= uMin[i]\n",
        "                                      if t <= N-1 else pyo.Constraint.Skip)\n",
        "\n",
        "\n",
        "\n",
        "    # def final_const_rule(model, i):\n",
        "    #     return sum(Af[i, j] * model.x[j, N] for j in model.xIDX) <= bf[i]\n",
        "\n",
        "    # model.final_const = pyo.Constraint(model.xIDX, rule=final_const_rule)\n",
        "\n",
        "    solver = pyo.SolverFactory('ipopt')\n",
        "    results = solver.solve(model)\n",
        "\n",
        "    if str(results.solver.termination_condition) == \"optimal\":\n",
        "        feas = True\n",
        "    else:\n",
        "        feas = False\n",
        "\n",
        "    xOpt = np.asarray([[model.x[i,t]() for i in model.xIDX] for t in model.tIDX]).T\n",
        "    uOpt = np.asarray([model.u[:,t]() for t in model.tIDX]).T\n",
        "\n",
        "    JOpt = model.cost()\n",
        "\n",
        "    return [model, feas, xOpt, uOpt, JOpt]"
      ],
      "metadata": {
        "id": "6AVytRhooQPo"
      },
      "execution_count": 210,
      "outputs": []
    },
    {
      "cell_type": "markdown",
      "source": [
        "# MPC"
      ],
      "metadata": {
        "id": "akQ77IiExCqa"
      }
    },
    {
      "cell_type": "markdown",
      "source": [
        "Consider the following system\n",
        "\\begin{equation}\\label{eq:model-int1}\n",
        "x(k+1)=\\begin{bmatrix} 1 &  1\\\\ 0 & 1 \\end{bmatrix}x(k)+\n",
        "     \\begin{bmatrix} 0\\\\ 1 \\end{bmatrix}u(k) \\quad \\quad (1)   \n",
        "\\end{equation}\n",
        "\n",
        "The state and input constraints are\n",
        "\\begin{equation}\\begin{aligned}\n",
        "\\mathcal{U}: &-0.5\\leq u(k)\\leq 0.5 \\quad \\quad \\quad \\quad \\quad \\quad \\quad \\quad (2a)\\\\\n",
        "\\mathcal{X}: &\\begin{bmatrix} -5\\\\ -5 \\end{bmatrix} \\leq x(k) \\leq \\begin{bmatrix} 5\\\\ 5 \\end{bmatrix} \\quad \\quad \\quad \\quad \\quad \\quad \\quad(2b)\n",
        "\\end{aligned}\n",
        "\\label{eq:con1}\\end{equation}"
      ],
      "metadata": {
        "id": "_YXiTr3Swmym"
      }
    },
    {
      "cell_type": "markdown",
      "source": [
        "In this problem, we will design an MPC controllers of the form:\n",
        "\n",
        "\\begin{equation*}\n",
        "   \\begin{array}{lll}\n",
        "       J_0^*(x_0)=  &\\displaystyle{\\min_{{U_0}}}& \\displaystyle{ \\color{red}{x_N'Px_N} + \\sum_{k=0}^{{N}-1}\n",
        "  x_k'Qx_k+u_k'Ru_k} \\\\\n",
        "       &\\text{subject to}   \\\\\n",
        "       &&x_{k+1}=Ax_{k}+Bu_{k},\\ k=0,\\ldots,N-1\\\\\n",
        "                       &&x_{k}\\in\\mathcal{X},~u_{k}\\in\\mathcal{U},~k=0,\\ldots,N-1\\\\\n",
        "                       && \\color{red}{{x_{N}\\in {\\mathcal{X}_f} }} \\\\\n",
        "                       && x_{0}=x(t)\n",
        "    \\end{array}\n",
        "\\end{equation*}\n",
        "In this problem, $Q=I_2$, $R=10$, $P=Q$ and $N=3$. Also, we set $\\mathcal{X_f}=\\mathcal{X}$."
      ],
      "metadata": {
        "id": "0LM3EwC8wa_B"
      }
    },
    {
      "cell_type": "markdown",
      "source": [
        "Now solve the MPC problem over a simulation horizon $M=25$ from the initial conditions $x_0 = [-4.5, 2]$."
      ],
      "metadata": {
        "id": "vY02VGb9xMP9"
      }
    },
    {
      "cell_type": "code",
      "source": [
        "# A = np.array([[1, 1],\n",
        "#                [0, 1]])\n",
        "# B = np.array([[0],\n",
        "#               [1]])\n",
        "\n",
        "eps = 0.0001\n",
        "\n",
        "w1 = 1\n",
        "w2 = 1\n",
        "w3 = 1\n",
        "w4 = 1\n",
        "w5 = 1\n",
        "\n",
        "P = np.array([[0, 0, 0, 0],\n",
        "              [0, w5, 0, 0],\n",
        "              [0, 0, w4, 0],\n",
        "              [0, 0, 0, w4]])\n",
        "R = w3*np.eye(2)\n",
        "Q = np.array([[0, 0, 0, 0],\n",
        "              [0, w2, 0, 0],\n",
        "              [0, 0, w1, 0],\n",
        "              [0, 0, 0, w1]])\n",
        "\n",
        "Af = np.array([[1, 0, 0, 0],\n",
        "               [0, 1, 0, 0],\n",
        "               [0, 0, 1, 0],\n",
        "               [0, 0, 0, 1],\n",
        "               [-1, 0, 0, 0],\n",
        "               [0, -1, 0, 0],\n",
        "               [0, 0, -1, 0],\n",
        "               [0, 0, 0, -1]])\n",
        "\n",
        "xf = 40000\n",
        "hf = 10000\n",
        "vxf = 250\n",
        "vhf = 15\n",
        "\n",
        "bf = np.array([xf+eps,\n",
        "               hf+eps,\n",
        "               vxf+eps,\n",
        "               vhf+eps,\n",
        "               xf-eps,\n",
        "               hf-eps,\n",
        "               vxf-eps,\n",
        "               vhf-eps])\n",
        "# R = 10*np.array([1]).reshape(1,1)\n",
        "# P = Q\n",
        "N = 3\n",
        "# xL = -5\n",
        "# xU = -xL\n",
        "# uL = -0.5\n",
        "# uU = -uL\n",
        "\n",
        "# initial states\n",
        "x0 = np.array([0, 11500, 250, 10]).T    # h = 9000~12000 (m)\n",
        "\n",
        "# reference states\n",
        "xref = np.array([10000, 9000, 200, 13]).T # don't care\n",
        "\n",
        "[model, feas, xOpt, uOpt, JOpt] = solve_cftoc(A, B, P, Q, R, N, x0, xref, Af, bf)\n",
        "\n",
        "# print('JOpt=', JOpt)\n",
        "# print('xOpt=', xOpt)\n",
        "# print('uOpt=', uOpt)\n",
        "fig = plt.figure(figsize=(3, 3))\n",
        "plt.plot(xOpt.T, '-o')\n",
        "plt.legend(['x', 'h', 'vx', 'vh'])\n",
        "plt.ylabel('x')\n",
        "plt.grid()\n",
        "\n",
        "fig = plt.figure(figsize=(10, 2))\n",
        "plt.plot(xOpt.T[:, 0], xOpt.T[:, 1])\n",
        "plt.legend(['Flight Path (side view)'])\n",
        "plt.axis('equal')\n",
        "plt.ylabel('h')\n",
        "plt.xlabel('x')\n",
        "plt.grid()\n",
        "\n",
        "# print(xOpt.T[:, 0])\n",
        "\n",
        "\n",
        "fig = plt.figure(figsize=(3, 3))\n",
        "plt.plot(uOpt.T, '-o')\n",
        "plt.legend(['ux', 'uh'])\n",
        "plt.ylabel('u')\n",
        "plt.grid()\n",
        "plt.show()\n",
        "# results = pyo.SolverFactory('ipopt').solve(model).write()"
      ],
      "metadata": {
        "colab": {
          "base_uri": "https://localhost:8080/",
          "height": 786
        },
        "id": "7LbtUVJXxNJW",
        "outputId": "9372843a-4494-4ead-990b-d7129c58e350"
      },
      "execution_count": 226,
      "outputs": [
        {
          "output_type": "display_data",
          "data": {
            "text/plain": [
              "<Figure size 300x300 with 1 Axes>"
            ],
            "image/png": "[encoded data removed]"
          },
          "metadata": {}
        },
        {
          "output_type": "display_data",
          "data": {
            "text/plain": [
              "<Figure size 1000x200 with 1 Axes>"
            ],
            "image/png": "[encoded data removed]"
          },
          "metadata": {}
        },
        {
          "output_type": "display_data",
          "data": {
            "text/plain": [
              "<Figure size 300x300 with 1 Axes>"
            ],
            "image/png": "[encoded data removed]"
          },
          "metadata": {}
        }
      ]
    },
    {
      "cell_type": "code",
      "source": [
        "import numpy as np\n",
        "import polytope as pt\n",
        "\n",
        "nx = np.size(A, 0)\n",
        "nu = np.size(B, 1)\n",
        "\n",
        "# nx = 2, nu = 1\n",
        "\n",
        "M = 200   # Simulation time\n",
        "\n",
        "xOpt = np.zeros((nx, M+1))\n",
        "uOpt = np.zeros((nu, M))\n",
        "xOpt[:, 0] = x0.reshape(nx, )\n",
        "\n",
        "xPred = np.zeros((nx, N+1, M))\n",
        "\n",
        "feas = np.zeros((M, ), dtype=bool)\n",
        "\n",
        "fig = plt.figure(figsize=(6, 4))\n",
        "for t in range(M):\n",
        "    [model, feas[t], x, u, J] = solve_cftoc(A, B, P, Q, R, N, xOpt[:, t], xref, Af, bf)\n",
        "\n",
        "    if not feas[t]:\n",
        "        xOpt = []\n",
        "        uOpt = []\n",
        "        break\n",
        "\n",
        "    xOpt[:, t+1] = x[:, 1]\n",
        "    uOpt[:, t] = u[:, 0].reshape(nu, )\n",
        "\n",
        "\n",
        "print('Feasibility =', feas)\n",
        "\n",
        "line2 = plt.plot(xOpt[0, :], xOpt[1, :], 'b-')\n",
        "plt.xlabel('x')\n",
        "plt.ylabel('h')\n",
        "plt.legend(['Flight Path (side view)'])\n",
        "plt.axis('equal')\n",
        "plt.grid()"
      ],
      "metadata": {
        "id": "WgLfyrM6xsEs",
        "outputId": "2889f9c7-1781-435b-e3f3-9c11057c8b18",
        "colab": {
          "base_uri": "https://localhost:8080/",
          "height": 683
        }
      },
      "execution_count": 223,
      "outputs": [
        {
          "output_type": "stream",
          "name": "stdout",
          "text": [
            "Feasibility = [ True  True  True  True  True  True  True  True  True  True  True  True\n",
            "  True  True  True  True  True  True  True  True  True  True  True  True\n",
            "  True  True  True  True  True  True  True  True  True  True  True  True\n",
            "  True  True  True  True  True  True  True  True  True  True  True  True\n",
            "  True  True  True  True  True  True  True  True  True  True  True  True\n",
            "  True  True  True  True  True  True  True  True  True  True  True  True\n",
            "  True  True  True  True  True  True  True  True  True  True  True  True\n",
            "  True  True  True  True  True  True  True  True  True  True  True  True\n",
            "  True  True  True  True  True  True  True  True  True  True  True  True\n",
            "  True  True  True  True  True  True  True  True  True  True  True  True\n",
            "  True  True  True  True  True  True  True  True  True  True  True  True\n",
            "  True  True  True  True  True  True  True  True  True  True  True  True\n",
            "  True  True  True  True  True  True  True  True  True  True  True  True\n",
            "  True  True  True  True  True  True  True  True  True  True  True  True\n",
            "  True  True  True  True  True  True  True  True  True  True  True  True\n",
            "  True  True  True  True  True  True  True  True  True  True  True  True\n",
            "  True  True  True  True  True  True  True  True]\n"
          ]
        },
        {
          "output_type": "display_data",
          "data": {
            "text/plain": [
              "<Figure size 600x400 with 1 Axes>"
            ],
            "image/png": "[encoded data removed]"
          },
          "metadata": {}
        }
      ]
    }
  ]
}
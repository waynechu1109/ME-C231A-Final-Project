{
  "nbformat": 4,
  "nbformat_minor": 0,
  "metadata": {
    "colab": {
      "provenance": [],
      "include_colab_link": true
    },
    "kernelspec": {
      "name": "python3",
      "display_name": "Python 3"
    },
    "language_info": {
      "name": "python"
    }
  },
  "cells": [
    {
      "cell_type": "markdown",
      "metadata": {
        "id": "view-in-github",
        "colab_type": "text"
      },
      "source": [
        "<a href=\"https://colab.research.google.com/github/waynechu1109/ME-C231A-Final-Project/blob/main/ME_C231A_Final_Project.ipynb\" target=\"_parent\"><img src=\"https://colab.research.google.com/assets/colab-badge.svg\" alt=\"Open In Colab\"/></a>"
      ]
    },
    {
      "cell_type": "markdown",
      "source": [
        "# Dependencies Installation\n",
        "**Run the code below every time before working on the project.**:"
      ],
      "metadata": {
        "id": "CspKt-I6loRv"
      }
    },
    {
      "cell_type": "code",
      "execution_count": null,
      "metadata": {
        "colab": {
          "base_uri": "https://localhost:8080/"
        },
        "id": "-Z2am6Sgk8_o",
        "outputId": "36bf4e48-0ec8-4479-a20e-bcd848581ba3"
      },
      "outputs": [
        {
          "output_type": "stream",
          "name": "stdout",
          "text": [
            "Requirement already satisfied: polytope in /usr/local/lib/python3.10/dist-packages (0.2.4)\n",
            "Requirement already satisfied: networkx>=3.0 in /usr/local/lib/python3.10/dist-packages (from polytope) (3.2.1)\n",
            "Requirement already satisfied: numpy>=1.24.1 in /usr/local/lib/python3.10/dist-packages (from polytope) (1.26.2)\n",
            "Requirement already satisfied: scipy>=1.10.0 in /usr/local/lib/python3.10/dist-packages (from polytope) (1.11.4)\n"
          ]
        }
      ],
      "source": [
        "# # install required dependencies\n",
        "#import sys\n",
        "!pip install polytope\n",
        "!pip install -q pyomo\n",
        "!apt-get install -y -qq glpk-utils\n",
        "!apt-get install -y -qq coinor-cbc\n",
        "!wget -N -q \"https://github.com/thomasfork/ipopt_linux/raw/main/ipopt-linux64.zip\"\n",
        "!unzip -o -q ipopt-linux64\n",
        "\n",
        "# IN_COLAB = 'google.colab' in sys.modules\n",
        "# if IN_COLAB:\n",
        "  #!pip install polytope"
      ]
    },
    {
      "cell_type": "markdown",
      "source": [
        "### Linearize the function"
      ],
      "metadata": {
        "id": "Mio_EwGrD-9l"
      }
    },
    {
      "cell_type": "code",
      "source": [
        "# (z1, z2, z3, z4) -> (p, x, y, q) -> (x, h, vx, xh)\n",
        "# (u1, u2) -> (u, r)\n",
        "import sympy as sp\n",
        "import numpy as np\n",
        "\n",
        "# Define the variables\n",
        "z1, z2, z3, z4, u1, u2 = sp.symbols('z1 z2 z3 z4 u1 u2')\n",
        "Ts = 1\n",
        "frho = (1-(2.2558*10**-5)*z2)**4.2577\n",
        "fw = 0.00879*(z2-9000)+51.39\n",
        "\n",
        "S = 125\n",
        "Cd = 0.053\n",
        "w = 70000\n",
        "C = S*Cd/w\n",
        "g = 9.77\n",
        "\n",
        "# Define the function (replace with your actual function)\n",
        "g1 = z1+Ts*z3\n",
        "g2 = z2+Ts*z4\n",
        "g3 = z3+Ts*((u1)-(1/2)*frho*(z3**2 + fw**2)*C)\n",
        "g4 = z4 + Ts*(u2-g)\n",
        "\n",
        "# Calculate partial derivatives\n",
        "\n",
        "# g1\n",
        "dg1_dp = sp.diff(g1, z1)\n",
        "# dg1_dx = sp.diff(g1, z2)\n",
        "dg1_dy = sp.diff(g1, z3)\n",
        "\n",
        "# g2\n",
        "# dg2_dp = sp.diff(g2, z1)\n",
        "dg2_dx = sp.diff(g2, z2)\n",
        "# dg2_dy = sp.diff(g2, z3)\n",
        "dg2_dq = sp.diff(g2, z4)\n",
        "\n",
        "# g3\n",
        "dg3_dx = sp.diff(g3, z2)\n",
        "dg3_dy = sp.diff(g3, z3)\n",
        "dg3_du = sp.diff(g3, u1)\n",
        "\n",
        "# g4\n",
        "dg4_dq = sp.diff(g4, z4)\n",
        "dg4_dr = sp.diff(g4, u2)\n",
        "\n",
        "# Specify the operating point\n",
        "operating_point = {z2: 10000, z3: 268.54, u1:0}\n",
        "\n",
        "# Evaluate partial derivatives at the operating point\n",
        "dg3_dx_op = dg3_dx.subs(operating_point)\n",
        "dg3_dy_op = dg3_dy.subs(operating_point)\n",
        "\n",
        "dg3_du_op = dg3_du.subs(operating_point)\n",
        "\n",
        "# Linearized A\n",
        "A = np.array([[dg1_dp, 0, dg1_dy, 0],\n",
        "              [0, dg2_dx, 0, dg2_dx],\n",
        "              [0, dg3_dx_op, dg3_dy_op, 0],\n",
        "              [0, 0, 0, dg4_dq]])\n",
        "\n",
        "# Linearized B\n",
        "B = np.array([[0, 0],\n",
        "              [0, 0],\n",
        "              [dg3_du, 0],\n",
        "              [0, dg4_dr]])\n",
        "\n",
        "# Linearize the function\n",
        "linearized_function = g3.subs({z2: operating_point[z2], z3: operating_point[z3], u1: operating_point[u1]}) + dg3_dx_op * (z2 - operating_point[z2]) + dg3_dy_op * (z3 - operating_point[z3]) + dg3_du_op * (u1 - operating_point[u1])\n",
        "\n",
        "# Print the linearized function\n",
        "print(\"Linearized Function:\", linearized_function)"
      ],
      "metadata": {
        "colab": {
          "base_uri": "https://localhost:8080/"
        },
        "id": "PFOjpL07a_wn",
        "outputId": "81ef9ba0-8ed4-418a-8614-fcdcee0d789a"
      },
      "execution_count": null,
      "outputs": [
        {
          "output_type": "stream",
          "name": "stdout",
          "text": [
            "Linearized Function: u1 + 0.000132816938252977*z2 + 0.991441604965944*z3 - 0.236744563759089\n"
          ]
        }
      ]
    },
    {
      "cell_type": "markdown",
      "source": [
        "# CFTOC Formulation"
      ],
      "metadata": {
        "id": "kblGoGqxv6jB"
      }
    },
    {
      "cell_type": "markdown",
      "source": [
        "Formulation of CFTOC Problem with Pyomo\n",
        "\n",
        "First we will write a function which formulates and solves a finite time optimal control problem with quadratic cost, linear dynamics, and linear constraints. Then we call this function as a part of the MPC controller. Consider the problem defined below:\n",
        "\\begin{equation}\n",
        "\\begin{aligned}\n",
        "\\min_{x_1 \\dots x_N,u_0 \\dots u_{N-1}} & \\quad x_N^{\\top}Px_N+\\sum_{k=0}^{N-1}x_k^{\\top}Qx_k+u_k^{\\top}Ru_k \\\\\n",
        "\\text{s.t.} & \\quad x_{k+1} = Ax_k + Bu_k \\quad \\forall k=0\\dots N-1\\\\\n",
        "& \\quad x_{min} \\leq x_k \\leq x_{max}  \\quad \\forall k=0\\dots N-1 \\\\\n",
        "& \\quad u_{min} \\leq u_k \\leq u_{max}  \\quad \\forall k=0\\dots N-1 \\\\\n",
        "& \\quad x_0 = x(0) \\\\\n",
        "& \\quad x_N \\in \\mathcal{X}_f\n",
        "\\end{aligned}\n",
        "\\end{equation}\n",
        "\n",
        "Write a function in the following form which formulates the problem using pyomo and solves the problem using the solver $\\texttt{ipopt}$. Test your code on several 1 and 2-state examples."
      ],
      "metadata": {
        "id": "VQCgQShaoUzJ"
      }
    },
    {
      "cell_type": "markdown",
      "source": [
        "\n",
        "- $\\texttt{feas}$ is a scalar logical indicating the feasibility of the CFTOC problem\n",
        "- $\\texttt{xOpt}$ is a $n_x \\times (N+1)$ matrix of the optimal state trajectory, where $n_x$ is the state dimension\n",
        "- $\\texttt{uOpt}$ is a $n_u \\times N$ matrix of the optimal input sequence, where $n_u$ is the input dimension\n",
        "- $\\texttt{JOpt}$ is a scalar of the optimal cost from the specified initial condition\n",
        "- $\\texttt{A, B}$ are the state and input matricies of the linear dynamics\n",
        "- $\\texttt{P}$ is the terminal cost matrix\n",
        "- $\\texttt{Q, R}$ are the stage cost matricies\n",
        "- $\\texttt{N}$ is the MPC horizon\n",
        "- $\\texttt{x0}$ is the initial condition\n",
        "- $\\texttt{xL, xU, uL, uU}$ are the box state and input constraints\n",
        "- $\\texttt{bf, Af}$ are used to represent the terminal set. If the terminal set ${\\cal X}_f$ is a single point, ${\\cal X}_f = \\{ \\bar{x}_N \\}$, the input argument $\\texttt{bf}$ is used to specify this single point $\\bar{x}_N$, and the input argument $\\texttt{Af = []}$ is used to designate this special case of a single-point terminal set. If the terminal set is described by a set of linear inequalities, it can be expressed using the inequality $A_f x_N \\leq b_f$.\n"
      ],
      "metadata": {
        "id": "-z8yOFLvodHk"
      }
    },
    {
      "cell_type": "markdown",
      "source": [
        "**If the cell below cannot run properly, \"Restart Runtime\" then run again.**"
      ],
      "metadata": {
        "id": "sPJSCMTPolpb"
      }
    },
    {
      "cell_type": "code",
      "source": [
        "import polytope as pt\n",
        "import numpy as np\n",
        "# from __future__ import division\n",
        "import pyomo.environ as pyo\n",
        "import matplotlib.pyplot as plt\n",
        "# %matplotlib widget"
      ],
      "metadata": {
        "id": "ZFu4s_u6oPQ4"
      },
      "execution_count": null,
      "outputs": []
    },
    {
      "cell_type": "code",
      "source": [
        "def solve_cftoc(A, B, P, Q, R, N, x0, xref, Af, bf):\n",
        "\n",
        "\n",
        "    # uref = np.array\n",
        "    xmax = 50000\n",
        "    xmin = 0\n",
        "    hmax = 12000\n",
        "    hmin = 9000\n",
        "    vxmax = 268.54\n",
        "    vxmin = 63.28\n",
        "    vhmax = 15.24\n",
        "    vhmin = -10.16\n",
        "    uxmax = 3.07\n",
        "    uxmin = 0\n",
        "    uhmax = 3.07\n",
        "    uhmin = -3.07\n",
        "    S = 125.0\n",
        "    C_d = 0.053\n",
        "    W = 7e5\n",
        "    model = pyo.ConcreteModel()\n",
        "    model.N = N\n",
        "    rho_0 = 1.225\n",
        "\n",
        "    model.nx = 4\n",
        "    model.nu = 2\n",
        "\n",
        "    model.A = A\n",
        "    model.B = B\n",
        "\n",
        "\n",
        "    # length of finite optimization problem:\n",
        "    model.tIDX = pyo.Set( initialize= range(model.N+1), ordered=True )\n",
        "    model.xIDX = pyo.Set( initialize= range(model.nx), ordered=True )\n",
        "    model.uIDX = pyo.Set( initialize= range(model.nu), ordered=True )\n",
        "\n",
        "    # these are 2d arrays:\n",
        "    model.Q = Q\n",
        "    model.P = P\n",
        "    model.R = R\n",
        "\n",
        "    # Create state and input variables trajectory:\n",
        "    # model.x = pyo.Var(model.xIDX, model.tIDX, bounds=(xL,xU))\n",
        "    model.x = pyo.Var(model.xIDX, model.tIDX)\n",
        "    # model.u = pyo.Var(model.uIDX, model.tIDX, bounds=(uL,uU))\n",
        "    model.u = pyo.Var(model.uIDX, model.tIDX)\n",
        "\n",
        "    #Objective:\n",
        "    def objective_rule(model):\n",
        "        costX = 0.0\n",
        "        costU = 0.0\n",
        "        costTerminal = 0.0\n",
        "        for t in model.tIDX:\n",
        "            for i in model.xIDX:\n",
        "                for j in model.xIDX:\n",
        "                    if t < model.N:\n",
        "                        costX += (model.x[i, t]-xref[i]) * model.Q[i, j] * (model.x[j, t]-xref[j])\n",
        "        for t in model.tIDX:\n",
        "            for i in model.uIDX:\n",
        "                for j in model.uIDX:\n",
        "                    if t < model.N:\n",
        "                        costU += model.u[i, t] * model.R[i, j] * model.u[j, t]\n",
        "        for i in model.xIDX:\n",
        "            for j in model.xIDX:\n",
        "                costTerminal += (model.x[i, model.N]-xref[i]) * model.P[i, j] * (model.x[j, model.N]-xref[j])\n",
        "        return costX + costU + costTerminal\n",
        "\n",
        "    model.cost = pyo.Objective(rule = objective_rule, sense = pyo.minimize)\n",
        "\n",
        "    # Constraints:\n",
        "    def equality_const_rule(model, i, t):\n",
        "        return model.x[i, t+1] - (sum(model.A[i, j] * model.x[j, t] for j in model.xIDX)\n",
        "                               +  sum(model.B[i, j] * model.u[j, t] for j in model.uIDX) ) == 0.0 if t < model.N else pyo.Constraint.Skip\n",
        "\n",
        "    model.equality_constraints = pyo.Constraint(model.xIDX, model.tIDX, rule=equality_const_rule)\n",
        "\n",
        "    # Constraints:\n",
        "    model.init_const1 = pyo.Constraint(expr = model.x[0, 0] == x0[0])\n",
        "    model.init_const2 = pyo.Constraint(expr = model.x[1, 0] == x0[1])\n",
        "    model.init_const3 = pyo.Constraint(expr = model.x[2, 0] == x0[2])\n",
        "    model.init_const4 = pyo.Constraint(expr = model.x[3, 0] == x0[3])\n",
        "\n",
        "    model.constraint5 = pyo.Constraint(model.xIDX, rule=lambda model, t: model.x[0, t+1] <= xmax\n",
        "                                   if t < N else pyo.Constraint.Skip)\n",
        "\n",
        "    model.constraint6 = pyo.Constraint(model.xIDX, rule=lambda model, t: model.x[0, t+1] >= xmin\n",
        "                                   if t < N else pyo.Constraint.Skip)\n",
        "\n",
        "    model.constraint7 = pyo.Constraint(model.xIDX, rule=lambda model, t: model.x[1, t+1] <= hmax\n",
        "                                   if t < N else pyo.Constraint.Skip)\n",
        "\n",
        "    model.constraint8 = pyo.Constraint(model.xIDX, rule=lambda model, t: model.x[1, t+1] >= hmin\n",
        "                                   if t < N else pyo.Constraint.Skip)\n",
        "\n",
        "    model.constraint9 = pyo.Constraint(model.xIDX, rule=lambda model, t: model.x[2, t+1] <= vxmax\n",
        "                                   if t < N else pyo.Constraint.Skip)\n",
        "\n",
        "    model.constraint10 = pyo.Constraint(model.xIDX, rule=lambda model, t: model.x[2, t+1] >= vxmin\n",
        "                                   if t < N else pyo.Constraint.Skip)\n",
        "\n",
        "    model.constraint11 = pyo.Constraint(model.xIDX, rule=lambda model, t: model.x[3, t+1] <= vhmax\n",
        "                                   if t < N else pyo.Constraint.Skip)\n",
        "\n",
        "    model.constraint12 = pyo.Constraint(model.xIDX, rule=lambda model, t: model.x[3, t+1] >= vhmin\n",
        "                                   if t < N else pyo.Constraint.Skip)\n",
        "\n",
        "    model.constraint13 = pyo.Constraint(model.uIDX, rule=lambda model, t: model.u[0, t+1] <= uxmax\n",
        "                                   if t < N-1 else pyo.Constraint.Skip)\n",
        "\n",
        "    model.constraint14 = pyo.Constraint(model.uIDX, rule=lambda model, t: model.u[0, t+1] >= uxmin\n",
        "                                   if t < N-1 else pyo.Constraint.Skip)\n",
        "\n",
        "    model.constraint15 = pyo.Constraint(model.uIDX, rule=lambda model, t: model.u[1, t+1] <= uhmax\n",
        "                                   if t < N-1 else pyo.Constraint.Skip)\n",
        "\n",
        "    model.constraint16 = pyo.Constraint(model.uIDX, rule=lambda model, t: model.u[1, t+1] >= uhmin\n",
        "                                   if t < N-1 else pyo.Constraint.Skip)\n",
        "\n",
        "    def final_const_rule(model, i):\n",
        "        return sum(Af[i, j] * model.x[j, N] for j in model.xIDX) <= bf[i]\n",
        "\n",
        "    model.final_const = pyo.Constraint(model.xIDX, rule=final_const_rule)\n",
        "\n",
        "    solver = pyo.SolverFactory('ipopt')\n",
        "    results = solver.solve(model)\n",
        "\n",
        "    if str(results.solver.termination_condition) == \"optimal\":\n",
        "        feas = True\n",
        "    else:\n",
        "        feas = False\n",
        "\n",
        "    xOpt = np.asarray([[model.x[i,t]() for i in model.xIDX] for t in model.tIDX]).T\n",
        "    uOpt = np.asarray([model.u[:,t]() for t in model.tIDX]).T\n",
        "\n",
        "    JOpt = model.cost()\n",
        "\n",
        "    return [model, feas, xOpt, uOpt, JOpt]\n",
        "\n"
      ],
      "metadata": {
        "id": "6AVytRhooQPo"
      },
      "execution_count": null,
      "outputs": []
    },
    {
      "cell_type": "markdown",
      "source": [
        "# MPC"
      ],
      "metadata": {
        "id": "akQ77IiExCqa"
      }
    },
    {
      "cell_type": "markdown",
      "source": [
        "Consider the following system\n",
        "\\begin{equation}\\label{eq:model-int1}\n",
        "x(k+1)=\\begin{bmatrix} 1 &  1\\\\ 0 & 1 \\end{bmatrix}x(k)+\n",
        "     \\begin{bmatrix} 0\\\\ 1 \\end{bmatrix}u(k) \\quad \\quad (1)   \n",
        "\\end{equation}\n",
        "\n",
        "The state and input constraints are\n",
        "\\begin{equation}\\begin{aligned}\n",
        "\\mathcal{U}: &-0.5\\leq u(k)\\leq 0.5 \\quad \\quad \\quad \\quad \\quad \\quad \\quad \\quad (2a)\\\\\n",
        "\\mathcal{X}: &\\begin{bmatrix} -5\\\\ -5 \\end{bmatrix} \\leq x(k) \\leq \\begin{bmatrix} 5\\\\ 5 \\end{bmatrix} \\quad \\quad \\quad \\quad \\quad \\quad \\quad(2b)\n",
        "\\end{aligned}\n",
        "\\label{eq:con1}\\end{equation}"
      ],
      "metadata": {
        "id": "_YXiTr3Swmym"
      }
    },
    {
      "cell_type": "markdown",
      "source": [
        "In this problem, we will design an MPC controllers of the form:\n",
        "\n",
        "\\begin{equation*}\n",
        "   \\begin{array}{lll}\n",
        "       J_0^*(x_0)=  &\\displaystyle{\\min_{{U_0}}}& \\displaystyle{ \\color{red}{x_N'Px_N} + \\sum_{k=0}^{{N}-1}\n",
        "  x_k'Qx_k+u_k'Ru_k} \\\\\n",
        "       &\\text{subject to}   \\\\\n",
        "       &&x_{k+1}=Ax_{k}+Bu_{k},\\ k=0,\\ldots,N-1\\\\\n",
        "                       &&x_{k}\\in\\mathcal{X},~u_{k}\\in\\mathcal{U},~k=0,\\ldots,N-1\\\\\n",
        "                       && \\color{red}{{x_{N}\\in {\\mathcal{X}_f} }} \\\\\n",
        "                       && x_{0}=x(t)\n",
        "    \\end{array}\n",
        "\\end{equation*}\n",
        "In this problem, $Q=I_2$, $R=10$, $P=Q$ and $N=3$. Also, we set $\\mathcal{X_f}=\\mathcal{X}$."
      ],
      "metadata": {
        "id": "0LM3EwC8wa_B"
      }
    },
    {
      "cell_type": "markdown",
      "source": [
        "Now solve the MPC problem over a simulation horizon $M=25$ from the initial conditions $x_0 = [-4.5, 2]$."
      ],
      "metadata": {
        "id": "vY02VGb9xMP9"
      }
    },
    {
      "cell_type": "code",
      "source": [
        "# A = np.array([[1, 1],\n",
        "#                [0, 1]])\n",
        "# B = np.array([[0],\n",
        "#               [1]])\n",
        "\n",
        "eps = 0.0001\n",
        "\n",
        "w1 = 0.5\n",
        "w2 = 0.8\n",
        "w3 = 1\n",
        "w4 = 0.7\n",
        "w5 = 0.4\n",
        "\n",
        "P = np.array([[0, 0, 0, 0],\n",
        "              [0, w5, 0, 0],\n",
        "              [0, 0, w4, 0],\n",
        "              [0, 0, 0, w4]])\n",
        "R = w3*np.eye(2)\n",
        "Q = np.array([[0, 0, 0, 0],\n",
        "              [0, w2, 0, 0],\n",
        "              [0, 0, w1, 0],\n",
        "              [0, 0, 0, w1]])\n",
        "\n",
        "Af = np.array([[1, 0, 0, 0],\n",
        "               [0, 0, 0, 0],\n",
        "               [0, 0, 0, 0],\n",
        "               [0, 0, 0, 0],\n",
        "               [-1, 0, 0, 0],\n",
        "               [0, 0, 0, 0],\n",
        "               [0, 0, 0, 0],\n",
        "               [0, 0, 0, 0]])\n",
        "\n",
        "xf = 20000\n",
        "bf = np.array([xf+eps,\n",
        "               0,\n",
        "               0,\n",
        "               0,\n",
        "               xf-eps,\n",
        "               0,\n",
        "               0,\n",
        "               0])\n",
        "# R = 10*np.array([1]).reshape(1,1)\n",
        "# P = Q\n",
        "N = 10\n",
        "# xL = -5\n",
        "# xU = -xL\n",
        "# uL = -0.5\n",
        "# uU = -uL\n",
        "# reference states\n",
        "x0 = np.array([0, 10000, 200, -100]).T    # h = 9000~12000 (m)\n",
        "xref = np.array([0, 10000, 200, 13]).T\n",
        "[model, feas, xOpt, uOpt, JOpt] = solve_cftoc(A, B, P, Q, R, N, x0, xref, Af, bf)\n",
        "\n",
        "print('JOpt=', JOpt)\n",
        "print('xOpt=', xOpt)\n",
        "print('uOpt=', uOpt)\n",
        "fig = plt.figure(figsize=(3, 3))\n",
        "plt.plot(xOpt.T, '-o')\n",
        "plt.legend(['x', 'h', 'vx', 'vh'])\n",
        "plt.ylabel('x')\n",
        "\n",
        "plt.grid()\n",
        "fig = plt.figure(figsize=(3, 3))\n",
        "plt.plot(uOpt.T, '-o')\n",
        "plt.legend(['ux', 'uh'])\n",
        "plt.ylabel('u')\n",
        "plt.grid()\n",
        "plt.show()\n",
        "results = pyo.SolverFactory('ipopt').solve(model).write()"
      ],
      "metadata": {
        "colab": {
          "base_uri": "https://localhost:8080/",
          "height": 1000
        },
        "id": "7LbtUVJXxNJW",
        "outputId": "9c931436-abd0-4eeb-e7b6-48cec7a51661"
      },
      "execution_count": null,
      "outputs": [
        {
          "output_type": "stream",
          "name": "stdout",
          "text": [
            "JOpt= 41495.84862254788\n",
            "xOpt= [[    0.        200.        400.00184   599.99646   799.98661   999.97276\n",
            "   1199.95332  1399.92389  1599.87557  1799.78895  1999.62456]\n",
            " [10000.       9900.       9915.24     9930.48     9945.72     9960.96\n",
            "   9980.3557   9992.7991   9999.42157 10004.20478 10010.67353]\n",
            " [  200.        200.00184   199.99462   199.99015   199.98614   199.98056\n",
            "    199.97057   199.95167   199.91339   199.83561   199.67886]\n",
            " [ -100.         15.24       15.24       15.24       15.24       19.39569\n",
            "     12.4434      6.62247     4.78321     6.46875     9.15809]]\n",
            "uOpt= [[0.3853446508163586 0.389596644390717 0.3902488710027387\n",
            "  0.38865110963532745 0.3850185850283171 0.3785397296933151\n",
            "  0.3669674757207957 0.3457640508463517 0.30506813992091036\n",
            "  0.22479671655188926 None]\n",
            " [115.24000015164263 2.5041165505498466e-10 -3.2097472964732116e-10\n",
            "  -6.693265467101709e-10 4.155694542520856 -6.952291038296191\n",
            "  -5.820929638312033 -1.839266297810485 1.6855460349006397\n",
            "  2.689336689568312 None]]\n"
          ]
        },
        {
          "output_type": "display_data",
          "data": {
            "text/plain": [
              "<Figure size 300x300 with 1 Axes>"
            ],
            "image/png": "[encoded data removed]"
          },
          "metadata": {}
        },
        {
          "output_type": "display_data",
          "data": {
            "text/plain": [
              "<Figure size 300x300 with 1 Axes>"
            ],
            "image/png": "[encoded data removed]"
          },
          "metadata": {}
        },
        {
          "output_type": "stream",
          "name": "stdout",
          "text": [
            "# ==========================================================\n",
            "# = Solver Results                                         =\n",
            "# ==========================================================\n",
            "# ----------------------------------------------------------\n",
            "#   Problem Information\n",
            "# ----------------------------------------------------------\n",
            "Problem: \n",
            "- Lower bound: -inf\n",
            "  Upper bound: inf\n",
            "  Number of objectives: 1\n",
            "  Number of constraints: 88\n",
            "  Number of variables: 64\n",
            "  Sense: unknown\n",
            "# ----------------------------------------------------------\n",
            "#   Solver Information\n",
            "# ----------------------------------------------------------\n",
            "Solver: \n",
            "- Status: ok\n",
            "  Message: Ipopt 3.12.13\\x3a Optimal Solution Found\n",
            "  Termination condition: optimal\n",
            "  Id: 0\n",
            "  Error rc: 0\n",
            "  Time: 0.010974407196044922\n",
            "# ----------------------------------------------------------\n",
            "#   Solution Information\n",
            "# ----------------------------------------------------------\n",
            "Solution: \n",
            "- number of solutions: 0\n",
            "  number of solutions displayed: 0\n"
          ]
        }
      ]
    },
    {
      "cell_type": "code",
      "source": [
        "import numpy as np\n",
        "import polytope as pt\n",
        "\n",
        "nx = np.size(A, 0)\n",
        "nu = np.size(B, 1)\n",
        "\n",
        "# nx = 2, nu = 1\n",
        "\n",
        "M = 20   # Simulation time\n",
        "\n",
        "xOpt = np.zeros((nx, M+1))\n",
        "uOpt = np.zeros((nu, M))\n",
        "xOpt[:, 0] = xref.reshape(nx, )\n",
        "\n",
        "xPred = np.zeros((nx, N+1, M))\n",
        "\n",
        "feas = np.zeros((M, ), dtype=bool)\n",
        "\n",
        "fig = plt.figure(figsize=(6, 4))\n",
        "for t in range(M):\n",
        "    [model, feas[t], x, u, J] = solve_cftoc(A, B, P, Q, R, N, xOpt[:, t], xref, Af, bf)\n",
        "\n",
        "    if not feas[t]:\n",
        "        xOpt = []\n",
        "        uOpt = []\n",
        "        break\n",
        "\n",
        "    xOpt[:, t+1] = x[:, 1]\n",
        "    uOpt[:, t] = u[:, 0].reshape(nu, )\n",
        "\n",
        "\n",
        "print('Feasibility =', feas)\n",
        "\n",
        "line2 = plt.plot(xOpt[0, :], xOpt[1, :], 'bo-')\n",
        "plt.xlabel('x')\n",
        "plt.ylabel('h')\n",
        "plt.axis('equal')\n",
        "plt.grid()\n",
        "\n"
      ],
      "metadata": {
        "id": "WgLfyrM6xsEs",
        "outputId": "9596d914-9e4f-4e87-edb9-17da040e0472",
        "colab": {
          "base_uri": "https://localhost:8080/",
          "height": 423
        }
      },
      "execution_count": null,
      "outputs": [
        {
          "output_type": "stream",
          "name": "stdout",
          "text": [
            "Feasibility = [ True  True  True  True  True  True  True  True  True  True  True  True\n",
            "  True  True  True  True  True  True  True  True]\n"
          ]
        },
        {
          "output_type": "display_data",
          "data": {
            "text/plain": [
              "<Figure size 600x400 with 1 Axes>"
            ],
            "image/png": "[encoded data removed]"
          },
          "metadata": {}
        }
      ]
    }
  ]
}